{
  "cells": [
    {
      "cell_type": "markdown",
      "metadata": {
        "colab_type": "text",
        "id": "view-in-github"
      },
      "source": [
        "<a href=\"https://colab.research.google.com/github/edquestofficial/Gen-AI-Cohort/blob/main/2024/april/Level_2/LLaMA_Index/1_LLaMA_Index_Hello_World_with_GeminiPro.ipynb\" target=\"_parent\"><img src=\"https://colab.research.google.com/assets/colab-badge.svg\" alt=\"Open In Colab\"/></a>"
      ]
    },
    {
      "cell_type": "code",
      "execution_count": null,
      "metadata": {
        "id": "mGNdCaP5sPzq"
      },
      "outputs": [],
      "source": [
        "! pip install llama_index"
      ]
    },
    {
      "cell_type": "code",
      "execution_count": null,
      "metadata": {
        "id": "tNwc2YZVtMK1"
      },
      "outputs": [],
      "source": [
        "! pip install -q llama-index-llms-gemini"
      ]
    },
    {
      "cell_type": "markdown",
      "metadata": {
        "id": "oqg2APAEyPOk"
      },
      "source": [
        "## Mount Google Drive and Set `Gemini` Key"
      ]
    },
    {
      "cell_type": "code",
      "execution_count": 6,
      "metadata": {
        "colab": {
          "base_uri": "https://localhost:8080/"
        },
        "id": "FVSp7HdEyUU-",
        "outputId": "95511ec1-379f-4ea0-bc7c-bb4f54b8c711"
      },
      "outputs": [
        {
          "name": "stdout",
          "output_type": "stream",
          "text": [
            "Mounted at /content/drive\n"
          ]
        }
      ],
      "source": [
        "from google.colab import drive\n",
        "drive.mount('/content/drive', force_remount=True)"
      ]
    },
    {
      "cell_type": "code",
      "execution_count": 7,
      "metadata": {
        "id": "IQY7JQUcycZe"
      },
      "outputs": [],
      "source": [
        "import os\n",
        "\n",
        "base_path = \"/content/drive/MyDrive/Gen AI Course/RAG_For_HDFC_Policy\"\n",
        "filepath = f\"{base_path}/gemini_api_key.txt\"\n",
        "with open(filepath, \"r\") as f:\n",
        "  api_key = ' '.join(f.readlines())\n",
        "  os.environ[\"GOOGLE_API_KEY\"] = api_key"
      ]
    },
    {
      "cell_type": "markdown",
      "metadata": {
        "id": "T51QZ5aXyhEQ"
      },
      "source": [
        "## LLM Basic Setup"
      ]
    },
    {
      "cell_type": "code",
      "execution_count": 5,
      "metadata": {
        "id": "6k5NIMGZx84j"
      },
      "outputs": [],
      "source": [
        "from llama_index.llms.gemini import Gemini"
      ]
    },
    {
      "cell_type": "code",
      "execution_count": 8,
      "metadata": {
        "id": "lR2dx300rH9T"
      },
      "outputs": [],
      "source": [
        "#llm = Gemini(api_key=os.environ[\"GOOGLE_API_KEY\"], model_name=\"models/gemini-pro\")\n",
        "api_key=\"\"\n",
        "llm = Gemini(api_key=api_key, model_name=\"models/gemini-pro\")"
      ]
    },
    {
      "cell_type": "code",
      "execution_count": 11,
      "metadata": {
        "id": "e6YfEopVss1S"
      },
      "outputs": [],
      "source": [
        "response = llm.complete(\"Hello world!\")\n",
        "print(response)"
      ]
    },
    {
      "cell_type": "code",
      "execution_count": null,
      "metadata": {},
      "outputs": [],
      "source": [
        "## Try to put any question and get the response from LLM\n",
        "response = llm.complete(\"Who is the Prime minister of UK?\")\n",
        "print(response)"
      ]
    },
    {
      "cell_type": "code",
      "execution_count": 13,
      "metadata": {
        "colab": {
          "base_uri": "https://localhost:8080/",
          "height": 70
        },
        "id": "IW8Vu4DjzPnh",
        "outputId": "a2b4b600-ee77-4fab-a758-7008cc03b563"
      },
      "outputs": [
        {
          "data": {
            "text/markdown": [
              "Why did the dog go to the bank?\n",
              "\n",
              "To get his loan approved!"
            ],
            "text/plain": [
              "<IPython.core.display.Markdown object>"
            ]
          },
          "execution_count": 13,
          "metadata": {},
          "output_type": "execute_result"
        }
      ],
      "source": [
        "from IPython.display import Markdown\n",
        "\n",
        "Markdown(response.text)"
      ]
    },
    {
      "cell_type": "code",
      "execution_count": null,
      "metadata": {
        "id": "KUOVwK6tzm_2"
      },
      "outputs": [],
      "source": []
    }
  ],
  "metadata": {
    "colab": {
      "authorship_tag": "ABX9TyPmdfOb+dlMvziafev0pLni",
      "include_colab_link": true,
      "provenance": []
    },
    "kernelspec": {
      "display_name": "Python 3",
      "name": "python3"
    },
    "language_info": {
      "name": "python"
    }
  },
  "nbformat": 4,
  "nbformat_minor": 0
}
