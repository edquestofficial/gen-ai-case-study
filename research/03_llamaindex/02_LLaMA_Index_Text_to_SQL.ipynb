{
  "nbformat": 4,
  "nbformat_minor": 0,
  "metadata": {
    "colab": {
      "provenance": []
    },
    "kernelspec": {
      "name": "python3",
      "display_name": "Python 3"
    },
    "language_info": {
      "name": "python"
    },
    "widgets": {
      "application/vnd.jupyter.widget-state+json": {
        "6a84e10548f5487a987dbab844018152": {
          "model_module": "@jupyter-widgets/controls",
          "model_name": "HBoxModel",
          "model_module_version": "1.5.0",
          "state": {
            "_dom_classes": [],
            "_model_module": "@jupyter-widgets/controls",
            "_model_module_version": "1.5.0",
            "_model_name": "HBoxModel",
            "_view_count": null,
            "_view_module": "@jupyter-widgets/controls",
            "_view_module_version": "1.5.0",
            "_view_name": "HBoxView",
            "box_style": "",
            "children": [
              "IPY_MODEL_7d241b4b340e4065bdb52664b85d0012",
              "IPY_MODEL_fb12f0ccb76b48db8901a6b25b5f8685",
              "IPY_MODEL_cd854ce0c27b46b690183381a05d2b90"
            ],
            "layout": "IPY_MODEL_ba36825ff27a48108a073021c2cd5dbc"
          }
        },
        "7d241b4b340e4065bdb52664b85d0012": {
          "model_module": "@jupyter-widgets/controls",
          "model_name": "HTMLModel",
          "model_module_version": "1.5.0",
          "state": {
            "_dom_classes": [],
            "_model_module": "@jupyter-widgets/controls",
            "_model_module_version": "1.5.0",
            "_model_name": "HTMLModel",
            "_view_count": null,
            "_view_module": "@jupyter-widgets/controls",
            "_view_module_version": "1.5.0",
            "_view_name": "HTMLView",
            "description": "",
            "description_tooltip": null,
            "layout": "IPY_MODEL_40cb604de41c4f9c982b6cbe8db4ad11",
            "placeholder": "​",
            "style": "IPY_MODEL_07279fea13f649f9a9a5fb73e8fed946",
            "value": "Upserted vectors: 100%"
          }
        },
        "fb12f0ccb76b48db8901a6b25b5f8685": {
          "model_module": "@jupyter-widgets/controls",
          "model_name": "FloatProgressModel",
          "model_module_version": "1.5.0",
          "state": {
            "_dom_classes": [],
            "_model_module": "@jupyter-widgets/controls",
            "_model_module_version": "1.5.0",
            "_model_name": "FloatProgressModel",
            "_view_count": null,
            "_view_module": "@jupyter-widgets/controls",
            "_view_module_version": "1.5.0",
            "_view_name": "ProgressView",
            "bar_style": "success",
            "description": "",
            "description_tooltip": null,
            "layout": "IPY_MODEL_d9f5bdb5b5ba4f628a1cfc7470b39cb2",
            "max": 21,
            "min": 0,
            "orientation": "horizontal",
            "style": "IPY_MODEL_feb8c53d7a2f411b958ad6be4387c7a1",
            "value": 21
          }
        },
        "cd854ce0c27b46b690183381a05d2b90": {
          "model_module": "@jupyter-widgets/controls",
          "model_name": "HTMLModel",
          "model_module_version": "1.5.0",
          "state": {
            "_dom_classes": [],
            "_model_module": "@jupyter-widgets/controls",
            "_model_module_version": "1.5.0",
            "_model_name": "HTMLModel",
            "_view_count": null,
            "_view_module": "@jupyter-widgets/controls",
            "_view_module_version": "1.5.0",
            "_view_name": "HTMLView",
            "description": "",
            "description_tooltip": null,
            "layout": "IPY_MODEL_8e2294011024428eadad58311f4941bf",
            "placeholder": "​",
            "style": "IPY_MODEL_3bb4b9d23c6247a9886676fb1fae749d",
            "value": " 21/21 [02:54&lt;00:00, 25.57it/s]"
          }
        },
        "ba36825ff27a48108a073021c2cd5dbc": {
          "model_module": "@jupyter-widgets/base",
          "model_name": "LayoutModel",
          "model_module_version": "1.2.0",
          "state": {
            "_model_module": "@jupyter-widgets/base",
            "_model_module_version": "1.2.0",
            "_model_name": "LayoutModel",
            "_view_count": null,
            "_view_module": "@jupyter-widgets/base",
            "_view_module_version": "1.2.0",
            "_view_name": "LayoutView",
            "align_content": null,
            "align_items": null,
            "align_self": null,
            "border": null,
            "bottom": null,
            "display": null,
            "flex": null,
            "flex_flow": null,
            "grid_area": null,
            "grid_auto_columns": null,
            "grid_auto_flow": null,
            "grid_auto_rows": null,
            "grid_column": null,
            "grid_gap": null,
            "grid_row": null,
            "grid_template_areas": null,
            "grid_template_columns": null,
            "grid_template_rows": null,
            "height": null,
            "justify_content": null,
            "justify_items": null,
            "left": null,
            "margin": null,
            "max_height": null,
            "max_width": null,
            "min_height": null,
            "min_width": null,
            "object_fit": null,
            "object_position": null,
            "order": null,
            "overflow": null,
            "overflow_x": null,
            "overflow_y": null,
            "padding": null,
            "right": null,
            "top": null,
            "visibility": null,
            "width": null
          }
        },
        "40cb604de41c4f9c982b6cbe8db4ad11": {
          "model_module": "@jupyter-widgets/base",
          "model_name": "LayoutModel",
          "model_module_version": "1.2.0",
          "state": {
            "_model_module": "@jupyter-widgets/base",
            "_model_module_version": "1.2.0",
            "_model_name": "LayoutModel",
            "_view_count": null,
            "_view_module": "@jupyter-widgets/base",
            "_view_module_version": "1.2.0",
            "_view_name": "LayoutView",
            "align_content": null,
            "align_items": null,
            "align_self": null,
            "border": null,
            "bottom": null,
            "display": null,
            "flex": null,
            "flex_flow": null,
            "grid_area": null,
            "grid_auto_columns": null,
            "grid_auto_flow": null,
            "grid_auto_rows": null,
            "grid_column": null,
            "grid_gap": null,
            "grid_row": null,
            "grid_template_areas": null,
            "grid_template_columns": null,
            "grid_template_rows": null,
            "height": null,
            "justify_content": null,
            "justify_items": null,
            "left": null,
            "margin": null,
            "max_height": null,
            "max_width": null,
            "min_height": null,
            "min_width": null,
            "object_fit": null,
            "object_position": null,
            "order": null,
            "overflow": null,
            "overflow_x": null,
            "overflow_y": null,
            "padding": null,
            "right": null,
            "top": null,
            "visibility": null,
            "width": null
          }
        },
        "07279fea13f649f9a9a5fb73e8fed946": {
          "model_module": "@jupyter-widgets/controls",
          "model_name": "DescriptionStyleModel",
          "model_module_version": "1.5.0",
          "state": {
            "_model_module": "@jupyter-widgets/controls",
            "_model_module_version": "1.5.0",
            "_model_name": "DescriptionStyleModel",
            "_view_count": null,
            "_view_module": "@jupyter-widgets/base",
            "_view_module_version": "1.2.0",
            "_view_name": "StyleView",
            "description_width": ""
          }
        },
        "d9f5bdb5b5ba4f628a1cfc7470b39cb2": {
          "model_module": "@jupyter-widgets/base",
          "model_name": "LayoutModel",
          "model_module_version": "1.2.0",
          "state": {
            "_model_module": "@jupyter-widgets/base",
            "_model_module_version": "1.2.0",
            "_model_name": "LayoutModel",
            "_view_count": null,
            "_view_module": "@jupyter-widgets/base",
            "_view_module_version": "1.2.0",
            "_view_name": "LayoutView",
            "align_content": null,
            "align_items": null,
            "align_self": null,
            "border": null,
            "bottom": null,
            "display": null,
            "flex": null,
            "flex_flow": null,
            "grid_area": null,
            "grid_auto_columns": null,
            "grid_auto_flow": null,
            "grid_auto_rows": null,
            "grid_column": null,
            "grid_gap": null,
            "grid_row": null,
            "grid_template_areas": null,
            "grid_template_columns": null,
            "grid_template_rows": null,
            "height": null,
            "justify_content": null,
            "justify_items": null,
            "left": null,
            "margin": null,
            "max_height": null,
            "max_width": null,
            "min_height": null,
            "min_width": null,
            "object_fit": null,
            "object_position": null,
            "order": null,
            "overflow": null,
            "overflow_x": null,
            "overflow_y": null,
            "padding": null,
            "right": null,
            "top": null,
            "visibility": null,
            "width": null
          }
        },
        "feb8c53d7a2f411b958ad6be4387c7a1": {
          "model_module": "@jupyter-widgets/controls",
          "model_name": "ProgressStyleModel",
          "model_module_version": "1.5.0",
          "state": {
            "_model_module": "@jupyter-widgets/controls",
            "_model_module_version": "1.5.0",
            "_model_name": "ProgressStyleModel",
            "_view_count": null,
            "_view_module": "@jupyter-widgets/base",
            "_view_module_version": "1.2.0",
            "_view_name": "StyleView",
            "bar_color": null,
            "description_width": ""
          }
        },
        "8e2294011024428eadad58311f4941bf": {
          "model_module": "@jupyter-widgets/base",
          "model_name": "LayoutModel",
          "model_module_version": "1.2.0",
          "state": {
            "_model_module": "@jupyter-widgets/base",
            "_model_module_version": "1.2.0",
            "_model_name": "LayoutModel",
            "_view_count": null,
            "_view_module": "@jupyter-widgets/base",
            "_view_module_version": "1.2.0",
            "_view_name": "LayoutView",
            "align_content": null,
            "align_items": null,
            "align_self": null,
            "border": null,
            "bottom": null,
            "display": null,
            "flex": null,
            "flex_flow": null,
            "grid_area": null,
            "grid_auto_columns": null,
            "grid_auto_flow": null,
            "grid_auto_rows": null,
            "grid_column": null,
            "grid_gap": null,
            "grid_row": null,
            "grid_template_areas": null,
            "grid_template_columns": null,
            "grid_template_rows": null,
            "height": null,
            "justify_content": null,
            "justify_items": null,
            "left": null,
            "margin": null,
            "max_height": null,
            "max_width": null,
            "min_height": null,
            "min_width": null,
            "object_fit": null,
            "object_position": null,
            "order": null,
            "overflow": null,
            "overflow_x": null,
            "overflow_y": null,
            "padding": null,
            "right": null,
            "top": null,
            "visibility": null,
            "width": null
          }
        },
        "3bb4b9d23c6247a9886676fb1fae749d": {
          "model_module": "@jupyter-widgets/controls",
          "model_name": "DescriptionStyleModel",
          "model_module_version": "1.5.0",
          "state": {
            "_model_module": "@jupyter-widgets/controls",
            "_model_module_version": "1.5.0",
            "_model_name": "DescriptionStyleModel",
            "_view_count": null,
            "_view_module": "@jupyter-widgets/base",
            "_view_module_version": "1.2.0",
            "_view_name": "StyleView",
            "description_width": ""
          }
        },
        "32a2fe9bd4c743b888c0f84e1563ff95": {
          "model_module": "@jupyter-widgets/controls",
          "model_name": "HBoxModel",
          "model_module_version": "1.5.0",
          "state": {
            "_dom_classes": [],
            "_model_module": "@jupyter-widgets/controls",
            "_model_module_version": "1.5.0",
            "_model_name": "HBoxModel",
            "_view_count": null,
            "_view_module": "@jupyter-widgets/controls",
            "_view_module_version": "1.5.0",
            "_view_name": "HBoxView",
            "box_style": "",
            "children": [
              "IPY_MODEL_d6c99202649449a9a35900ca1fe08f49",
              "IPY_MODEL_a1dae9ebb3bf4230b59f47b7cc859aaf",
              "IPY_MODEL_a40318d1c1154fdf9c22709d3115df0c"
            ],
            "layout": "IPY_MODEL_5eb11aeca792439a96bbbca1e9cdb3cb"
          }
        },
        "d6c99202649449a9a35900ca1fe08f49": {
          "model_module": "@jupyter-widgets/controls",
          "model_name": "HTMLModel",
          "model_module_version": "1.5.0",
          "state": {
            "_dom_classes": [],
            "_model_module": "@jupyter-widgets/controls",
            "_model_module_version": "1.5.0",
            "_model_name": "HTMLModel",
            "_view_count": null,
            "_view_module": "@jupyter-widgets/controls",
            "_view_module_version": "1.5.0",
            "_view_name": "HTMLView",
            "description": "",
            "description_tooltip": null,
            "layout": "IPY_MODEL_3bd414671af24f5e9f3003da1b0407cf",
            "placeholder": "​",
            "style": "IPY_MODEL_5fc47e990c14408895b6c9220cf7b4f6",
            "value": "Upserted vectors: 100%"
          }
        },
        "a1dae9ebb3bf4230b59f47b7cc859aaf": {
          "model_module": "@jupyter-widgets/controls",
          "model_name": "FloatProgressModel",
          "model_module_version": "1.5.0",
          "state": {
            "_dom_classes": [],
            "_model_module": "@jupyter-widgets/controls",
            "_model_module_version": "1.5.0",
            "_model_name": "FloatProgressModel",
            "_view_count": null,
            "_view_module": "@jupyter-widgets/controls",
            "_view_module_version": "1.5.0",
            "_view_name": "ProgressView",
            "bar_style": "success",
            "description": "",
            "description_tooltip": null,
            "layout": "IPY_MODEL_126ee4c8a4c54a27b2607a005a13fbb6",
            "max": 21,
            "min": 0,
            "orientation": "horizontal",
            "style": "IPY_MODEL_8eea3552838f47e0a0e094c898f792e8",
            "value": 21
          }
        },
        "a40318d1c1154fdf9c22709d3115df0c": {
          "model_module": "@jupyter-widgets/controls",
          "model_name": "HTMLModel",
          "model_module_version": "1.5.0",
          "state": {
            "_dom_classes": [],
            "_model_module": "@jupyter-widgets/controls",
            "_model_module_version": "1.5.0",
            "_model_name": "HTMLModel",
            "_view_count": null,
            "_view_module": "@jupyter-widgets/controls",
            "_view_module_version": "1.5.0",
            "_view_name": "HTMLView",
            "description": "",
            "description_tooltip": null,
            "layout": "IPY_MODEL_f5726442e27d4275a4a6db85ea516192",
            "placeholder": "​",
            "style": "IPY_MODEL_8d0a0b0a888444d3a18804044388e258",
            "value": " 21/21 [02:52&lt;00:00, 40.95it/s]"
          }
        },
        "5eb11aeca792439a96bbbca1e9cdb3cb": {
          "model_module": "@jupyter-widgets/base",
          "model_name": "LayoutModel",
          "model_module_version": "1.2.0",
          "state": {
            "_model_module": "@jupyter-widgets/base",
            "_model_module_version": "1.2.0",
            "_model_name": "LayoutModel",
            "_view_count": null,
            "_view_module": "@jupyter-widgets/base",
            "_view_module_version": "1.2.0",
            "_view_name": "LayoutView",
            "align_content": null,
            "align_items": null,
            "align_self": null,
            "border": null,
            "bottom": null,
            "display": null,
            "flex": null,
            "flex_flow": null,
            "grid_area": null,
            "grid_auto_columns": null,
            "grid_auto_flow": null,
            "grid_auto_rows": null,
            "grid_column": null,
            "grid_gap": null,
            "grid_row": null,
            "grid_template_areas": null,
            "grid_template_columns": null,
            "grid_template_rows": null,
            "height": null,
            "justify_content": null,
            "justify_items": null,
            "left": null,
            "margin": null,
            "max_height": null,
            "max_width": null,
            "min_height": null,
            "min_width": null,
            "object_fit": null,
            "object_position": null,
            "order": null,
            "overflow": null,
            "overflow_x": null,
            "overflow_y": null,
            "padding": null,
            "right": null,
            "top": null,
            "visibility": null,
            "width": null
          }
        },
        "3bd414671af24f5e9f3003da1b0407cf": {
          "model_module": "@jupyter-widgets/base",
          "model_name": "LayoutModel",
          "model_module_version": "1.2.0",
          "state": {
            "_model_module": "@jupyter-widgets/base",
            "_model_module_version": "1.2.0",
            "_model_name": "LayoutModel",
            "_view_count": null,
            "_view_module": "@jupyter-widgets/base",
            "_view_module_version": "1.2.0",
            "_view_name": "LayoutView",
            "align_content": null,
            "align_items": null,
            "align_self": null,
            "border": null,
            "bottom": null,
            "display": null,
            "flex": null,
            "flex_flow": null,
            "grid_area": null,
            "grid_auto_columns": null,
            "grid_auto_flow": null,
            "grid_auto_rows": null,
            "grid_column": null,
            "grid_gap": null,
            "grid_row": null,
            "grid_template_areas": null,
            "grid_template_columns": null,
            "grid_template_rows": null,
            "height": null,
            "justify_content": null,
            "justify_items": null,
            "left": null,
            "margin": null,
            "max_height": null,
            "max_width": null,
            "min_height": null,
            "min_width": null,
            "object_fit": null,
            "object_position": null,
            "order": null,
            "overflow": null,
            "overflow_x": null,
            "overflow_y": null,
            "padding": null,
            "right": null,
            "top": null,
            "visibility": null,
            "width": null
          }
        },
        "5fc47e990c14408895b6c9220cf7b4f6": {
          "model_module": "@jupyter-widgets/controls",
          "model_name": "DescriptionStyleModel",
          "model_module_version": "1.5.0",
          "state": {
            "_model_module": "@jupyter-widgets/controls",
            "_model_module_version": "1.5.0",
            "_model_name": "DescriptionStyleModel",
            "_view_count": null,
            "_view_module": "@jupyter-widgets/base",
            "_view_module_version": "1.2.0",
            "_view_name": "StyleView",
            "description_width": ""
          }
        },
        "126ee4c8a4c54a27b2607a005a13fbb6": {
          "model_module": "@jupyter-widgets/base",
          "model_name": "LayoutModel",
          "model_module_version": "1.2.0",
          "state": {
            "_model_module": "@jupyter-widgets/base",
            "_model_module_version": "1.2.0",
            "_model_name": "LayoutModel",
            "_view_count": null,
            "_view_module": "@jupyter-widgets/base",
            "_view_module_version": "1.2.0",
            "_view_name": "LayoutView",
            "align_content": null,
            "align_items": null,
            "align_self": null,
            "border": null,
            "bottom": null,
            "display": null,
            "flex": null,
            "flex_flow": null,
            "grid_area": null,
            "grid_auto_columns": null,
            "grid_auto_flow": null,
            "grid_auto_rows": null,
            "grid_column": null,
            "grid_gap": null,
            "grid_row": null,
            "grid_template_areas": null,
            "grid_template_columns": null,
            "grid_template_rows": null,
            "height": null,
            "justify_content": null,
            "justify_items": null,
            "left": null,
            "margin": null,
            "max_height": null,
            "max_width": null,
            "min_height": null,
            "min_width": null,
            "object_fit": null,
            "object_position": null,
            "order": null,
            "overflow": null,
            "overflow_x": null,
            "overflow_y": null,
            "padding": null,
            "right": null,
            "top": null,
            "visibility": null,
            "width": null
          }
        },
        "8eea3552838f47e0a0e094c898f792e8": {
          "model_module": "@jupyter-widgets/controls",
          "model_name": "ProgressStyleModel",
          "model_module_version": "1.5.0",
          "state": {
            "_model_module": "@jupyter-widgets/controls",
            "_model_module_version": "1.5.0",
            "_model_name": "ProgressStyleModel",
            "_view_count": null,
            "_view_module": "@jupyter-widgets/base",
            "_view_module_version": "1.2.0",
            "_view_name": "StyleView",
            "bar_color": null,
            "description_width": ""
          }
        },
        "f5726442e27d4275a4a6db85ea516192": {
          "model_module": "@jupyter-widgets/base",
          "model_name": "LayoutModel",
          "model_module_version": "1.2.0",
          "state": {
            "_model_module": "@jupyter-widgets/base",
            "_model_module_version": "1.2.0",
            "_model_name": "LayoutModel",
            "_view_count": null,
            "_view_module": "@jupyter-widgets/base",
            "_view_module_version": "1.2.0",
            "_view_name": "LayoutView",
            "align_content": null,
            "align_items": null,
            "align_self": null,
            "border": null,
            "bottom": null,
            "display": null,
            "flex": null,
            "flex_flow": null,
            "grid_area": null,
            "grid_auto_columns": null,
            "grid_auto_flow": null,
            "grid_auto_rows": null,
            "grid_column": null,
            "grid_gap": null,
            "grid_row": null,
            "grid_template_areas": null,
            "grid_template_columns": null,
            "grid_template_rows": null,
            "height": null,
            "justify_content": null,
            "justify_items": null,
            "left": null,
            "margin": null,
            "max_height": null,
            "max_width": null,
            "min_height": null,
            "min_width": null,
            "object_fit": null,
            "object_position": null,
            "order": null,
            "overflow": null,
            "overflow_x": null,
            "overflow_y": null,
            "padding": null,
            "right": null,
            "top": null,
            "visibility": null,
            "width": null
          }
        },
        "8d0a0b0a888444d3a18804044388e258": {
          "model_module": "@jupyter-widgets/controls",
          "model_name": "DescriptionStyleModel",
          "model_module_version": "1.5.0",
          "state": {
            "_model_module": "@jupyter-widgets/controls",
            "_model_module_version": "1.5.0",
            "_model_name": "DescriptionStyleModel",
            "_view_count": null,
            "_view_module": "@jupyter-widgets/base",
            "_view_module_version": "1.2.0",
            "_view_name": "StyleView",
            "description_width": ""
          }
        },
        "4fd9026ce1f84d42803956cf145d055d": {
          "model_module": "@jupyter-widgets/controls",
          "model_name": "HBoxModel",
          "model_module_version": "1.5.0",
          "state": {
            "_dom_classes": [],
            "_model_module": "@jupyter-widgets/controls",
            "_model_module_version": "1.5.0",
            "_model_name": "HBoxModel",
            "_view_count": null,
            "_view_module": "@jupyter-widgets/controls",
            "_view_module_version": "1.5.0",
            "_view_name": "HBoxView",
            "box_style": "",
            "children": [
              "IPY_MODEL_fa325f16b6164e48aa300f96918385f9",
              "IPY_MODEL_9df645d2dfd742e9ab380ae7ce54439d",
              "IPY_MODEL_d1ec9c2439ea431da2908ee7e1165865"
            ],
            "layout": "IPY_MODEL_57f69b55c5dd4281bde29dad56f8b20f"
          }
        },
        "fa325f16b6164e48aa300f96918385f9": {
          "model_module": "@jupyter-widgets/controls",
          "model_name": "HTMLModel",
          "model_module_version": "1.5.0",
          "state": {
            "_dom_classes": [],
            "_model_module": "@jupyter-widgets/controls",
            "_model_module_version": "1.5.0",
            "_model_name": "HTMLModel",
            "_view_count": null,
            "_view_module": "@jupyter-widgets/controls",
            "_view_module_version": "1.5.0",
            "_view_name": "HTMLView",
            "description": "",
            "description_tooltip": null,
            "layout": "IPY_MODEL_9dd16ba02c8f41fcaf02567bc7e4e18b",
            "placeholder": "​",
            "style": "IPY_MODEL_494f60ea03964eeaaf4b0a9ae6ba89b3",
            "value": "Upserted vectors: 100%"
          }
        },
        "9df645d2dfd742e9ab380ae7ce54439d": {
          "model_module": "@jupyter-widgets/controls",
          "model_name": "FloatProgressModel",
          "model_module_version": "1.5.0",
          "state": {
            "_dom_classes": [],
            "_model_module": "@jupyter-widgets/controls",
            "_model_module_version": "1.5.0",
            "_model_name": "FloatProgressModel",
            "_view_count": null,
            "_view_module": "@jupyter-widgets/controls",
            "_view_module_version": "1.5.0",
            "_view_name": "ProgressView",
            "bar_style": "success",
            "description": "",
            "description_tooltip": null,
            "layout": "IPY_MODEL_0d479542da414771a2d7c8b624023885",
            "max": 14,
            "min": 0,
            "orientation": "horizontal",
            "style": "IPY_MODEL_f3b4d93b99c9413b896f5b547e17eaa5",
            "value": 14
          }
        },
        "d1ec9c2439ea431da2908ee7e1165865": {
          "model_module": "@jupyter-widgets/controls",
          "model_name": "HTMLModel",
          "model_module_version": "1.5.0",
          "state": {
            "_dom_classes": [],
            "_model_module": "@jupyter-widgets/controls",
            "_model_module_version": "1.5.0",
            "_model_name": "HTMLModel",
            "_view_count": null,
            "_view_module": "@jupyter-widgets/controls",
            "_view_module_version": "1.5.0",
            "_view_name": "HTMLView",
            "description": "",
            "description_tooltip": null,
            "layout": "IPY_MODEL_415bce2176bc4fff86eb68f7a58b338a",
            "placeholder": "​",
            "style": "IPY_MODEL_74fec400849a4daf87c1878c3a5bf1a5",
            "value": " 14/14 [02:51&lt;00:00, 36.81it/s]"
          }
        },
        "57f69b55c5dd4281bde29dad56f8b20f": {
          "model_module": "@jupyter-widgets/base",
          "model_name": "LayoutModel",
          "model_module_version": "1.2.0",
          "state": {
            "_model_module": "@jupyter-widgets/base",
            "_model_module_version": "1.2.0",
            "_model_name": "LayoutModel",
            "_view_count": null,
            "_view_module": "@jupyter-widgets/base",
            "_view_module_version": "1.2.0",
            "_view_name": "LayoutView",
            "align_content": null,
            "align_items": null,
            "align_self": null,
            "border": null,
            "bottom": null,
            "display": null,
            "flex": null,
            "flex_flow": null,
            "grid_area": null,
            "grid_auto_columns": null,
            "grid_auto_flow": null,
            "grid_auto_rows": null,
            "grid_column": null,
            "grid_gap": null,
            "grid_row": null,
            "grid_template_areas": null,
            "grid_template_columns": null,
            "grid_template_rows": null,
            "height": null,
            "justify_content": null,
            "justify_items": null,
            "left": null,
            "margin": null,
            "max_height": null,
            "max_width": null,
            "min_height": null,
            "min_width": null,
            "object_fit": null,
            "object_position": null,
            "order": null,
            "overflow": null,
            "overflow_x": null,
            "overflow_y": null,
            "padding": null,
            "right": null,
            "top": null,
            "visibility": null,
            "width": null
          }
        },
        "9dd16ba02c8f41fcaf02567bc7e4e18b": {
          "model_module": "@jupyter-widgets/base",
          "model_name": "LayoutModel",
          "model_module_version": "1.2.0",
          "state": {
            "_model_module": "@jupyter-widgets/base",
            "_model_module_version": "1.2.0",
            "_model_name": "LayoutModel",
            "_view_count": null,
            "_view_module": "@jupyter-widgets/base",
            "_view_module_version": "1.2.0",
            "_view_name": "LayoutView",
            "align_content": null,
            "align_items": null,
            "align_self": null,
            "border": null,
            "bottom": null,
            "display": null,
            "flex": null,
            "flex_flow": null,
            "grid_area": null,
            "grid_auto_columns": null,
            "grid_auto_flow": null,
            "grid_auto_rows": null,
            "grid_column": null,
            "grid_gap": null,
            "grid_row": null,
            "grid_template_areas": null,
            "grid_template_columns": null,
            "grid_template_rows": null,
            "height": null,
            "justify_content": null,
            "justify_items": null,
            "left": null,
            "margin": null,
            "max_height": null,
            "max_width": null,
            "min_height": null,
            "min_width": null,
            "object_fit": null,
            "object_position": null,
            "order": null,
            "overflow": null,
            "overflow_x": null,
            "overflow_y": null,
            "padding": null,
            "right": null,
            "top": null,
            "visibility": null,
            "width": null
          }
        },
        "494f60ea03964eeaaf4b0a9ae6ba89b3": {
          "model_module": "@jupyter-widgets/controls",
          "model_name": "DescriptionStyleModel",
          "model_module_version": "1.5.0",
          "state": {
            "_model_module": "@jupyter-widgets/controls",
            "_model_module_version": "1.5.0",
            "_model_name": "DescriptionStyleModel",
            "_view_count": null,
            "_view_module": "@jupyter-widgets/base",
            "_view_module_version": "1.2.0",
            "_view_name": "StyleView",
            "description_width": ""
          }
        },
        "0d479542da414771a2d7c8b624023885": {
          "model_module": "@jupyter-widgets/base",
          "model_name": "LayoutModel",
          "model_module_version": "1.2.0",
          "state": {
            "_model_module": "@jupyter-widgets/base",
            "_model_module_version": "1.2.0",
            "_model_name": "LayoutModel",
            "_view_count": null,
            "_view_module": "@jupyter-widgets/base",
            "_view_module_version": "1.2.0",
            "_view_name": "LayoutView",
            "align_content": null,
            "align_items": null,
            "align_self": null,
            "border": null,
            "bottom": null,
            "display": null,
            "flex": null,
            "flex_flow": null,
            "grid_area": null,
            "grid_auto_columns": null,
            "grid_auto_flow": null,
            "grid_auto_rows": null,
            "grid_column": null,
            "grid_gap": null,
            "grid_row": null,
            "grid_template_areas": null,
            "grid_template_columns": null,
            "grid_template_rows": null,
            "height": null,
            "justify_content": null,
            "justify_items": null,
            "left": null,
            "margin": null,
            "max_height": null,
            "max_width": null,
            "min_height": null,
            "min_width": null,
            "object_fit": null,
            "object_position": null,
            "order": null,
            "overflow": null,
            "overflow_x": null,
            "overflow_y": null,
            "padding": null,
            "right": null,
            "top": null,
            "visibility": null,
            "width": null
          }
        },
        "f3b4d93b99c9413b896f5b547e17eaa5": {
          "model_module": "@jupyter-widgets/controls",
          "model_name": "ProgressStyleModel",
          "model_module_version": "1.5.0",
          "state": {
            "_model_module": "@jupyter-widgets/controls",
            "_model_module_version": "1.5.0",
            "_model_name": "ProgressStyleModel",
            "_view_count": null,
            "_view_module": "@jupyter-widgets/base",
            "_view_module_version": "1.2.0",
            "_view_name": "StyleView",
            "bar_color": null,
            "description_width": ""
          }
        },
        "415bce2176bc4fff86eb68f7a58b338a": {
          "model_module": "@jupyter-widgets/base",
          "model_name": "LayoutModel",
          "model_module_version": "1.2.0",
          "state": {
            "_model_module": "@jupyter-widgets/base",
            "_model_module_version": "1.2.0",
            "_model_name": "LayoutModel",
            "_view_count": null,
            "_view_module": "@jupyter-widgets/base",
            "_view_module_version": "1.2.0",
            "_view_name": "LayoutView",
            "align_content": null,
            "align_items": null,
            "align_self": null,
            "border": null,
            "bottom": null,
            "display": null,
            "flex": null,
            "flex_flow": null,
            "grid_area": null,
            "grid_auto_columns": null,
            "grid_auto_flow": null,
            "grid_auto_rows": null,
            "grid_column": null,
            "grid_gap": null,
            "grid_row": null,
            "grid_template_areas": null,
            "grid_template_columns": null,
            "grid_template_rows": null,
            "height": null,
            "justify_content": null,
            "justify_items": null,
            "left": null,
            "margin": null,
            "max_height": null,
            "max_width": null,
            "min_height": null,
            "min_width": null,
            "object_fit": null,
            "object_position": null,
            "order": null,
            "overflow": null,
            "overflow_x": null,
            "overflow_y": null,
            "padding": null,
            "right": null,
            "top": null,
            "visibility": null,
            "width": null
          }
        },
        "74fec400849a4daf87c1878c3a5bf1a5": {
          "model_module": "@jupyter-widgets/controls",
          "model_name": "DescriptionStyleModel",
          "model_module_version": "1.5.0",
          "state": {
            "_model_module": "@jupyter-widgets/controls",
            "_model_module_version": "1.5.0",
            "_model_name": "DescriptionStyleModel",
            "_view_count": null,
            "_view_module": "@jupyter-widgets/base",
            "_view_module_version": "1.2.0",
            "_view_name": "StyleView",
            "description_width": ""
          }
        }
      }
    }
  },
  "cells": [
    {
      "cell_type": "code",
      "source": [
        "# code snippet reference: https://docs.llamaindex.ai/en/stable/examples/index_structs/struct_indices/SQLIndexDemo/"
      ],
      "metadata": {
        "id": "IjhbxxkAJ-mQ"
      },
      "execution_count": null,
      "outputs": []
    },
    {
      "cell_type": "code",
      "execution_count": null,
      "metadata": {
        "id": "oQYgdXLDf1MD"
      },
      "outputs": [],
      "source": [
        "%pip install llama-index-vector-stores-pinecone\n",
        "%pip install llama-index-readers-wikipedia\n",
        "%pip install llama-index-llms-openai"
      ]
    },
    {
      "cell_type": "code",
      "source": [
        "! pip install llama-index"
      ],
      "metadata": {
        "id": "xtwyDO1c-6va"
      },
      "execution_count": null,
      "outputs": []
    },
    {
      "cell_type": "code",
      "source": [
        "# install wikipedia python package\n",
        "! pip install wikipedia"
      ],
      "metadata": {
        "id": "4iTNQnjHCpxF"
      },
      "execution_count": null,
      "outputs": []
    },
    {
      "cell_type": "markdown",
      "source": [
        "## Mount Google Drive"
      ],
      "metadata": {
        "id": "w2rQDOup9p1j"
      }
    },
    {
      "cell_type": "code",
      "source": [
        "from google.colab import drive\n",
        "drive.mount('/content/drive', force_remount=True)"
      ],
      "metadata": {
        "colab": {
          "base_uri": "https://localhost:8080/"
        },
        "id": "IqtCcovt9uy8",
        "outputId": "7cf23066-ad56-4725-e202-63815741363a"
      },
      "execution_count": null,
      "outputs": [
        {
          "output_type": "stream",
          "name": "stdout",
          "text": [
            "Mounted at /content/drive\n"
          ]
        }
      ]
    },
    {
      "cell_type": "code",
      "source": [
        "import os\n",
        "\n",
        "secret_base_path = \"/content/drive/MyDrive/Gen AI Course/secrets\"\n",
        "gemini_api_key_path = f\"{secret_base_path}/gemini_api_key.txt\"\n",
        "openai_api_key_path = f\"{secret_base_path}/openai_api_key.txt\"\n",
        "pinecone_api_key_path = f\"{secret_base_path}/pinecone_api_key.txt\"\n",
        "\n",
        "with open(gemini_api_key_path, \"r\") as f:\n",
        "  gemini_api_key = ' '.join(f.readlines())\n",
        "  os.environ[\"GOOGLE_API_KEY\"] = gemini_api_key\n",
        "\n",
        "with open(openai_api_key_path, \"r\") as f:\n",
        "  openai_api_key = ' '.join(f.readlines())\n",
        "\n",
        "with open(pinecone_api_key_path, \"r\") as f:\n",
        "  pinecone_api_key = ' '.join(f.readlines())"
      ],
      "metadata": {
        "id": "IGsn12QW9u2a"
      },
      "execution_count": null,
      "outputs": []
    },
    {
      "cell_type": "code",
      "source": [
        "os.environ[\"PINECONE_API_KEY\"] = pinecone_api_key"
      ],
      "metadata": {
        "id": "s5EzY-61_i56"
      },
      "execution_count": null,
      "outputs": []
    },
    {
      "cell_type": "code",
      "source": [
        "import openai\n",
        "import os\n",
        "\n",
        "os.environ[\"OPENAI_API_KEY\"] = openai_api_key"
      ],
      "metadata": {
        "id": "iFMr2qEu9u45"
      },
      "execution_count": null,
      "outputs": []
    },
    {
      "cell_type": "code",
      "source": [
        "# NOTE: This is ONLY necessary in jupyter notebook.\n",
        "# Details: Jupyter runs an event-loop behind the scenes.\n",
        "#          This results in nested event-loops when we start an event-loop to make async queries.\n",
        "#          This is normally not allowed, we use nest_asyncio to allow it for convenience.\n",
        "import nest_asyncio\n",
        "\n",
        "nest_asyncio.apply()\n",
        "\n",
        "import logging\n",
        "import sys\n",
        "\n",
        "logging.basicConfig(stream=sys.stdout, level=logging.INFO)\n",
        "logging.getLogger().addHandler(logging.StreamHandler(stream=sys.stdout))"
      ],
      "metadata": {
        "id": "AmLEwdwb9u8C"
      },
      "execution_count": null,
      "outputs": []
    },
    {
      "cell_type": "code",
      "source": [
        "# define pinecone index\n",
        "# Reference: https://app.pinecone.io/organizations/-NiO4QwDpIIf4REEjxr7/projects/9f76d077-1774-499b-8745-8f82466dc7a1/indexes\n",
        "import pinecone\n",
        "import os\n",
        "from pinecone import Pinecone, ServerlessSpec\n",
        "\n",
        "pc = Pinecone(\n",
        "    api_key=os.environ.get(\"PINECONE_API_KEY\")\n",
        ")\n",
        "\n",
        "index_name = \"quickstart\"\n",
        "pc.create_index(\n",
        "    name=index_name,\n",
        "    dimension=1536, # Replace with your model dimensions\n",
        "    metric=\"euclidean\", # Replace with your model metric\n",
        "    spec=ServerlessSpec(\n",
        "        cloud=\"aws\",\n",
        "        region=\"us-east-1\"\n",
        "    )\n",
        ")"
      ],
      "metadata": {
        "id": "N1F2NlwL-5ig"
      },
      "execution_count": null,
      "outputs": []
    },
    {
      "cell_type": "code",
      "source": [
        "# pc.delete_index(index_name)"
      ],
      "metadata": {
        "id": "7cm5Y4PbEE-n"
      },
      "execution_count": null,
      "outputs": []
    },
    {
      "cell_type": "code",
      "source": [
        "pinecone_index = pc.Index(\"quickstart\")"
      ],
      "metadata": {
        "id": "VGGdOV1JBuSE"
      },
      "execution_count": null,
      "outputs": []
    },
    {
      "cell_type": "code",
      "source": [
        "from llama_index.core import StorageContext\n",
        "from llama_index.vector_stores.pinecone import PineconeVectorStore\n",
        "from llama_index.core import VectorStoreIndex\n",
        "\n",
        "\n",
        "# define pinecone vector index\n",
        "vector_store = PineconeVectorStore(\n",
        "    pinecone_index=pinecone_index, namespace=\"wiki_cities\"\n",
        ")\n",
        "storage_context = StorageContext.from_defaults(vector_store=vector_store)\n",
        "vector_index = VectorStoreIndex([], storage_context=storage_context)"
      ],
      "metadata": {
        "id": "8MdUVc7W9u_a"
      },
      "execution_count": null,
      "outputs": []
    },
    {
      "cell_type": "markdown",
      "source": [
        "## Create Database Schema + Test Data"
      ],
      "metadata": {
        "id": "EsCCwScFCCh8"
      }
    },
    {
      "cell_type": "code",
      "source": [
        "from sqlalchemy import (\n",
        "    create_engine,\n",
        "    MetaData,\n",
        "    Table,\n",
        "    Column,\n",
        "    String,\n",
        "    Integer,\n",
        "    select,\n",
        "    column,\n",
        ")"
      ],
      "metadata": {
        "id": "irmYp6NTB9aP"
      },
      "execution_count": null,
      "outputs": []
    },
    {
      "cell_type": "code",
      "source": [
        "engine = create_engine(\"sqlite:///:memory:\", future=True)\n",
        "metadata_obj = MetaData()"
      ],
      "metadata": {
        "id": "uxgt0HNSB9dM"
      },
      "execution_count": null,
      "outputs": []
    },
    {
      "cell_type": "code",
      "source": [
        "# create city SQL table\n",
        "table_name = \"city_stats\"\n",
        "city_stats_table = Table(\n",
        "    table_name,\n",
        "    metadata_obj,\n",
        "    Column(\"city_name\", String(16), primary_key=True),\n",
        "    Column(\"population\", Integer),\n",
        "    Column(\"country\", String(16), nullable=False),\n",
        ")\n",
        "\n",
        "metadata_obj.create_all(engine)"
      ],
      "metadata": {
        "id": "R2O-3gOuB9fx"
      },
      "execution_count": null,
      "outputs": []
    },
    {
      "cell_type": "code",
      "source": [
        "# print tables\n",
        "metadata_obj.tables.keys()"
      ],
      "metadata": {
        "colab": {
          "base_uri": "https://localhost:8080/"
        },
        "id": "LciKyKttB9h8",
        "outputId": "f3922d9e-e2e7-453f-fcb1-2013bb9ce6c0"
      },
      "execution_count": null,
      "outputs": [
        {
          "output_type": "execute_result",
          "data": {
            "text/plain": [
              "dict_keys(['city_stats'])"
            ]
          },
          "metadata": {},
          "execution_count": 38
        }
      ]
    },
    {
      "cell_type": "code",
      "source": [
        "from sqlalchemy import insert\n",
        "\n",
        "rows = [\n",
        "    {\"city_name\": \"Toronto\", \"population\": 2930000, \"country\": \"Canada\"},\n",
        "    {\"city_name\": \"Tokyo\", \"population\": 13960000, \"country\": \"Japan\"},\n",
        "    {\"city_name\": \"Berlin\", \"population\": 3645000, \"country\": \"Germany\"},\n",
        "]\n",
        "for row in rows:\n",
        "    stmt = insert(city_stats_table).values(**row)\n",
        "    with engine.begin() as connection:\n",
        "        cursor = connection.execute(stmt)"
      ],
      "metadata": {
        "id": "bfmKqU9DB9kV"
      },
      "execution_count": null,
      "outputs": []
    },
    {
      "cell_type": "code",
      "source": [
        "with engine.connect() as connection:\n",
        "    cursor = connection.exec_driver_sql(\"SELECT * FROM city_stats\")\n",
        "    print(cursor.fetchall())"
      ],
      "metadata": {
        "colab": {
          "base_uri": "https://localhost:8080/"
        },
        "id": "B-uRXAeuB9mb",
        "outputId": "25f245ba-804b-441e-ff4b-707610cd5e88"
      },
      "execution_count": null,
      "outputs": [
        {
          "output_type": "stream",
          "name": "stdout",
          "text": [
            "[('Toronto', 2930000, 'Canada'), ('Tokyo', 13960000, 'Japan'), ('Berlin', 3645000, 'Germany')]\n"
          ]
        }
      ]
    },
    {
      "cell_type": "markdown",
      "source": [
        "## Load Data into Vector DB (Pinecone)"
      ],
      "metadata": {
        "id": "UbWHW4DVCjNK"
      }
    },
    {
      "cell_type": "code",
      "source": [
        "from llama_index.readers.wikipedia import WikipediaReader\n",
        "\n",
        "cities = [\"Toronto\", \"Berlin\", \"Tokyo\"]\n",
        "wiki_docs = WikipediaReader().load_data(pages=cities)"
      ],
      "metadata": {
        "id": "3gVqm2B-B9ot"
      },
      "execution_count": null,
      "outputs": []
    },
    {
      "cell_type": "markdown",
      "source": [
        "## Build SQL Index"
      ],
      "metadata": {
        "id": "SVRYOe18C5lf"
      }
    },
    {
      "cell_type": "code",
      "source": [
        "from llama_index.core import SQLDatabase\n",
        "\n",
        "sql_database = SQLDatabase(engine, include_tables=[\"city_stats\"])"
      ],
      "metadata": {
        "id": "oeic0ni4CxaZ"
      },
      "execution_count": null,
      "outputs": []
    },
    {
      "cell_type": "code",
      "source": [
        "from llama_index.core.query_engine import NLSQLTableQueryEngine\n",
        "\n",
        "sql_query_engine = NLSQLTableQueryEngine(\n",
        "    sql_database=sql_database,\n",
        "    tables=[\"city_stats\"],\n",
        ")"
      ],
      "metadata": {
        "id": "UarKGVIuCxcu"
      },
      "execution_count": null,
      "outputs": []
    },
    {
      "cell_type": "markdown",
      "source": [
        "## Build Vector Index"
      ],
      "metadata": {
        "id": "2MsZIuCYDQ0v"
      }
    },
    {
      "cell_type": "code",
      "source": [
        "from llama_index.core import Settings\n",
        "\n",
        "# Insert documents into vector index\n",
        "# Each document has metadata of the city attached\n",
        "for city, wiki_doc in zip(cities, wiki_docs):\n",
        "    nodes = Settings.node_parser.get_nodes_from_documents([wiki_doc])\n",
        "    # add metadata to each node\n",
        "    for node in nodes:\n",
        "        node.metadata = {\"title\": city}\n",
        "        # print(node)\n",
        "    vector_index.insert_nodes(nodes)"
      ],
      "metadata": {
        "colab": {
          "base_uri": "https://localhost:8080/",
          "height": 113,
          "referenced_widgets": [
            "6a84e10548f5487a987dbab844018152",
            "7d241b4b340e4065bdb52664b85d0012",
            "fb12f0ccb76b48db8901a6b25b5f8685",
            "cd854ce0c27b46b690183381a05d2b90",
            "ba36825ff27a48108a073021c2cd5dbc",
            "40cb604de41c4f9c982b6cbe8db4ad11",
            "07279fea13f649f9a9a5fb73e8fed946",
            "d9f5bdb5b5ba4f628a1cfc7470b39cb2",
            "feb8c53d7a2f411b958ad6be4387c7a1",
            "8e2294011024428eadad58311f4941bf",
            "3bb4b9d23c6247a9886676fb1fae749d",
            "32a2fe9bd4c743b888c0f84e1563ff95",
            "d6c99202649449a9a35900ca1fe08f49",
            "a1dae9ebb3bf4230b59f47b7cc859aaf",
            "a40318d1c1154fdf9c22709d3115df0c",
            "5eb11aeca792439a96bbbca1e9cdb3cb",
            "3bd414671af24f5e9f3003da1b0407cf",
            "5fc47e990c14408895b6c9220cf7b4f6",
            "126ee4c8a4c54a27b2607a005a13fbb6",
            "8eea3552838f47e0a0e094c898f792e8",
            "f5726442e27d4275a4a6db85ea516192",
            "8d0a0b0a888444d3a18804044388e258",
            "4fd9026ce1f84d42803956cf145d055d",
            "fa325f16b6164e48aa300f96918385f9",
            "9df645d2dfd742e9ab380ae7ce54439d",
            "d1ec9c2439ea431da2908ee7e1165865",
            "57f69b55c5dd4281bde29dad56f8b20f",
            "9dd16ba02c8f41fcaf02567bc7e4e18b",
            "494f60ea03964eeaaf4b0a9ae6ba89b3",
            "0d479542da414771a2d7c8b624023885",
            "f3b4d93b99c9413b896f5b547e17eaa5",
            "415bce2176bc4fff86eb68f7a58b338a",
            "74fec400849a4daf87c1878c3a5bf1a5"
          ]
        },
        "id": "BmKz5PjVCxfF",
        "outputId": "078c6bb9-65e3-4098-ea13-5cbe07dfb609"
      },
      "execution_count": null,
      "outputs": [
        {
          "output_type": "display_data",
          "data": {
            "text/plain": [
              "Upserted vectors:   0%|          | 0/21 [00:00<?, ?it/s]"
            ],
            "application/vnd.jupyter.widget-view+json": {
              "version_major": 2,
              "version_minor": 0,
              "model_id": "6a84e10548f5487a987dbab844018152"
            }
          },
          "metadata": {}
        },
        {
          "output_type": "display_data",
          "data": {
            "text/plain": [
              "Upserted vectors:   0%|          | 0/21 [00:00<?, ?it/s]"
            ],
            "application/vnd.jupyter.widget-view+json": {
              "version_major": 2,
              "version_minor": 0,
              "model_id": "32a2fe9bd4c743b888c0f84e1563ff95"
            }
          },
          "metadata": {}
        },
        {
          "output_type": "display_data",
          "data": {
            "text/plain": [
              "Upserted vectors:   0%|          | 0/14 [00:00<?, ?it/s]"
            ],
            "application/vnd.jupyter.widget-view+json": {
              "version_major": 2,
              "version_minor": 0,
              "model_id": "4fd9026ce1f84d42803956cf145d055d"
            }
          },
          "metadata": {}
        }
      ]
    },
    {
      "cell_type": "markdown",
      "source": [
        "## Define Query Engines, Set as Tools"
      ],
      "metadata": {
        "id": "fuH2ydVyEppI"
      }
    },
    {
      "cell_type": "code",
      "source": [
        "from llama_index.llms.openai import OpenAI\n",
        "from llama_index.core.retrievers import VectorIndexAutoRetriever\n",
        "from llama_index.core.vector_stores import MetadataInfo, VectorStoreInfo\n",
        "from llama_index.core.query_engine import RetrieverQueryEngine\n",
        "\n",
        "\n",
        "vector_store_info = VectorStoreInfo(\n",
        "    content_info=\"articles about different cities\",\n",
        "    metadata_info=[\n",
        "        MetadataInfo(\n",
        "            name=\"title\", type=\"str\", description=\"The name of the city\"\n",
        "        ),\n",
        "    ],\n",
        ")\n",
        "vector_auto_retriever = VectorIndexAutoRetriever(\n",
        "    vector_index, vector_store_info=vector_store_info\n",
        ")\n",
        "\n",
        "retriever_query_engine = RetrieverQueryEngine.from_args(\n",
        "    vector_auto_retriever, llm=OpenAI(model=\"gpt-4\")\n",
        ")"
      ],
      "metadata": {
        "id": "2pBOqXnKCxhP"
      },
      "execution_count": null,
      "outputs": []
    },
    {
      "cell_type": "code",
      "source": [
        "from llama_index.core.tools import QueryEngineTool\n",
        "\n",
        "sql_tool = QueryEngineTool.from_defaults(\n",
        "    query_engine=sql_query_engine,\n",
        "    description=(\n",
        "        \"Useful for translating a natural language query into a SQL query over\"\n",
        "        \" a table containing: city_stats, containing the population/country of\"\n",
        "        \" each city\"\n",
        "    ),\n",
        ")\n",
        "vector_tool = QueryEngineTool.from_defaults(\n",
        "    query_engine=retriever_query_engine,\n",
        "    description=(\n",
        "        f\"Useful for answering semantic questions about different cities\"\n",
        "    ),\n",
        ")"
      ],
      "metadata": {
        "id": "nwCqMTd-Cxjf"
      },
      "execution_count": null,
      "outputs": []
    },
    {
      "cell_type": "markdown",
      "source": [
        "## Define SQLAutoVectorQueryEngine"
      ],
      "metadata": {
        "id": "GCQkOwL-E3yl"
      }
    },
    {
      "cell_type": "code",
      "source": [
        "from llama_index.core.query_engine import SQLAutoVectorQueryEngine\n",
        "\n",
        "query_engine = SQLAutoVectorQueryEngine(\n",
        "    sql_tool, vector_tool, llm=OpenAI(model=\"gpt-3.5-turbo\")\n",
        ")"
      ],
      "metadata": {
        "id": "gC5BI2AqCxlv"
      },
      "execution_count": null,
      "outputs": []
    },
    {
      "cell_type": "code",
      "source": [
        "response = query_engine.query(\n",
        "    \"Tell me about the arts and culture of the city with the highest population\"\n",
        ")"
      ],
      "metadata": {
        "colab": {
          "base_uri": "https://localhost:8080/"
        },
        "id": "bBjH_AGkEy_-",
        "outputId": "589e25d1-d893-4337-aedf-afe756140a4c"
      },
      "execution_count": null,
      "outputs": [
        {
          "output_type": "stream",
          "name": "stdout",
          "text": [
            "\u001b[1;3;34mQuerying SQL database: The choice is relevant for translating a natural language query into a SQL query over a table containing city_stats, which includes population data. This choice can help retrieve information about the city with the highest population.\n",
            "\u001b[0m\u001b[1;3;33mSQL query: SELECT city_name, population, country FROM city_stats ORDER BY population DESC LIMIT 1;\n",
            "\u001b[0m\u001b[1;3;33mSQL response: Tokyo, Japan has a population of 13.96 million people, making it the city with the highest population. The arts and culture of Tokyo are rich and diverse, with a mix of traditional Japanese arts such as tea ceremonies, kabuki theater, and sumo wrestling, as well as modern influences like anime, manga, and contemporary art. The city is home to numerous museums, galleries, theaters, and cultural events that showcase both traditional and contemporary Japanese art forms. Additionally, Tokyo is known for its vibrant street art scene, fashion districts, and bustling nightlife, making it a hub of creativity and innovation in the arts.\n",
            "\u001b[0m\u001b[1;3;34mTransformed query given SQL response: None\n",
            "\u001b[0m"
          ]
        }
      ]
    },
    {
      "cell_type": "code",
      "source": [
        "print(str(response))"
      ],
      "metadata": {
        "colab": {
          "base_uri": "https://localhost:8080/"
        },
        "id": "bA9nOBXFEzC_",
        "outputId": "a47510e7-ce71-43d7-9c7b-4b3bfbaddbaa"
      },
      "execution_count": null,
      "outputs": [
        {
          "output_type": "stream",
          "name": "stdout",
          "text": [
            "Tokyo, Japan has a population of 13.96 million people, making it the city with the highest population. The arts and culture of Tokyo are rich and diverse, with a mix of traditional Japanese arts such as tea ceremonies, kabuki theater, and sumo wrestling, as well as modern influences like anime, manga, and contemporary art. The city is home to numerous museums, galleries, theaters, and cultural events that showcase both traditional and contemporary Japanese art forms. Additionally, Tokyo is known for its vibrant street art scene, fashion districts, and bustling nightlife, making it a hub of creativity and innovation in the arts.\n"
          ]
        }
      ]
    },
    {
      "cell_type": "code",
      "source": [
        "response = query_engine.query(\"Tell me about the history of Berlin\")"
      ],
      "metadata": {
        "colab": {
          "base_uri": "https://localhost:8080/"
        },
        "id": "dUOqmaPIFaVg",
        "outputId": "c7d01175-a749-469d-d86b-e5ef254bd933",
        "collapsed": true
      },
      "execution_count": null,
      "outputs": [
        {
          "output_type": "stream",
          "name": "stdout",
          "text": [
            "\u001b[1;3;34mQuerying other query engine: The choice is relevant for answering semantic questions about different cities, which includes providing information about the history of a specific city like Berlin.\n",
            "\u001b[0m\u001b[1;3;38;5;200mQuery Engine response: Berlin's history is rich and complex, dating back to human settlements around 60,000 BC. The region came under German rule in the 12th century as part of the Margraviate of Brandenburg. The city suffered significant damage during the Thirty Years' War in the 17th century, but under the rule of Frederick William, it saw a period of immigration and religious tolerance. By 1700, about 30% of Berlin's residents were French due to Huguenot immigration. \n",
            "\n",
            "In 1701, Berlin became the capital of the newly formed Kingdom of Prussia. The 19th century brought the Industrial Revolution, transforming Berlin into a major railway hub and economic center of Germany. In 1871, it became the capital of the newly founded German Empire.\n",
            "\n",
            "The early 20th century saw Berlin as a fertile ground for the German Expressionist movement and a center of the Roaring Twenties. However, the city also experienced political unrest and economic uncertainties. In 1933, Adolf Hitler and the Nazi Party came to power, leading to a significant decrease in Berlin's Jewish community and the onset of World War II.\n",
            "\n",
            "Post-war, Berlin continued to evolve and grow, incorporating neighboring suburbs and expanding its area and population. Today, it is known for its historical significance, diverse culture, and as a center for science, technology, arts, and more.\n",
            "\u001b[0m"
          ]
        }
      ]
    },
    {
      "cell_type": "code",
      "source": [
        "print(str(response))"
      ],
      "metadata": {
        "colab": {
          "base_uri": "https://localhost:8080/"
        },
        "id": "bKeDDuShFaYG",
        "outputId": "68090706-4b0b-42ab-a276-7d4074c78d9c",
        "collapsed": true
      },
      "execution_count": null,
      "outputs": [
        {
          "output_type": "stream",
          "name": "stdout",
          "text": [
            "Berlin's history is rich and complex, dating back to human settlements around 60,000 BC. The region came under German rule in the 12th century as part of the Margraviate of Brandenburg. The city suffered significant damage during the Thirty Years' War in the 17th century, but under the rule of Frederick William, it saw a period of immigration and religious tolerance. By 1700, about 30% of Berlin's residents were French due to Huguenot immigration. \n",
            "\n",
            "In 1701, Berlin became the capital of the newly formed Kingdom of Prussia. The 19th century brought the Industrial Revolution, transforming Berlin into a major railway hub and economic center of Germany. In 1871, it became the capital of the newly founded German Empire.\n",
            "\n",
            "The early 20th century saw Berlin as a fertile ground for the German Expressionist movement and a center of the Roaring Twenties. However, the city also experienced political unrest and economic uncertainties. In 1933, Adolf Hitler and the Nazi Party came to power, leading to a significant decrease in Berlin's Jewish community and the onset of World War II.\n",
            "\n",
            "Post-war, Berlin continued to evolve and grow, incorporating neighboring suburbs and expanding its area and population. Today, it is known for its historical significance, diverse culture, and as a center for science, technology, arts, and more.\n"
          ]
        }
      ]
    },
    {
      "cell_type": "code",
      "source": [
        "response = query_engine.query(\n",
        "    \"Can you give me the country corresponding to each city?\"\n",
        ")"
      ],
      "metadata": {
        "colab": {
          "base_uri": "https://localhost:8080/"
        },
        "id": "l3o1vx7bFaag",
        "outputId": "110c05d9-4e7c-481f-a603-e98a1dfcbd64"
      },
      "execution_count": null,
      "outputs": [
        {
          "output_type": "stream",
          "name": "stdout",
          "text": [
            "\u001b[1;3;34mQuerying SQL database: This choice is useful for translating a natural language query into a SQL query over a table containing city_stats, which includes the population/country of each city. This would allow for retrieving the country corresponding to each city.\n",
            "\u001b[0m\u001b[1;3;33mSQL query: SELECT city_name, country\n",
            "FROM city_stats\n",
            "ORDER BY city_name;\n",
            "\u001b[0m\u001b[1;3;33mSQL response: The corresponding countries for each city are Germany for Berlin, Japan for Tokyo, and Canada for Toronto.\n",
            "\u001b[0m\u001b[1;3;34mTransformed query given SQL response: None\n",
            "\u001b[0m"
          ]
        }
      ]
    },
    {
      "cell_type": "code",
      "source": [
        "print(str(response))"
      ],
      "metadata": {
        "colab": {
          "base_uri": "https://localhost:8080/"
        },
        "id": "qdukGmrBFact",
        "outputId": "09b57e15-0b31-421d-b7fc-9302280a0387"
      },
      "execution_count": null,
      "outputs": [
        {
          "output_type": "stream",
          "name": "stdout",
          "text": [
            "The corresponding countries for each city are Germany for Berlin, Japan for Tokyo, and Canada for Toronto.\n"
          ]
        }
      ]
    },
    {
      "cell_type": "code",
      "source": [],
      "metadata": {
        "id": "67tLidQsFae_"
      },
      "execution_count": null,
      "outputs": []
    },
    {
      "cell_type": "code",
      "source": [],
      "metadata": {
        "id": "cETs7npkFahi"
      },
      "execution_count": null,
      "outputs": []
    }
  ]
}