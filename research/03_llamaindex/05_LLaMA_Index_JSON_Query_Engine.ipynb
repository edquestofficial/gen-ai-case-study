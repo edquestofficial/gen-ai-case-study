{
  "nbformat": 4,
  "nbformat_minor": 0,
  "metadata": {
    "colab": {
      "provenance": [],
      "collapsed_sections": [
        "ER6tXIzcjHd5",
        "3blx8E9nitKy"
      ],
      "authorship_tag": "ABX9TyPn3fZ3+dyUVpbIyigIWI5b",
      "include_colab_link": true
    },
    "kernelspec": {
      "name": "python3",
      "display_name": "Python 3"
    },
    "language_info": {
      "name": "python"
    }
  },
  "cells": [
    {
      "cell_type": "markdown",
      "metadata": {
        "id": "view-in-github",
        "colab_type": "text"
      },
      "source": [
        "<a href=\"https://colab.research.google.com/github/edquestofficial/Gen-AI-Cohort/blob/main/2024/april/Level_2/LLaMA_Index/LLaMA_Index_JSON_Query_Engine.ipynb\" target=\"_parent\"><img src=\"https://colab.research.google.com/assets/colab-badge.svg\" alt=\"Open In Colab\"/></a>"
      ]
    },
    {
      "cell_type": "markdown",
      "source": [
        "# JSON Query Engine\n",
        "\n",
        "## Reference\n",
        "* [YouTube](https://www.youtube.com/watch?v=4tDyfAaIqEw&list=PLTZkGHtR085ZjK1srrSZIrkeEzQiMjO9W&index=5)\n",
        "* [Documentation](https://docs.llamaindex.ai/en/stable/examples/query_engine/json_query_engine/)"
      ],
      "metadata": {
        "id": "qwL-70HYeBrx"
      }
    },
    {
      "cell_type": "code",
      "source": [
        "! pip install llama-index"
      ],
      "metadata": {
        "id": "9OJZ_8j-eUyl"
      },
      "execution_count": null,
      "outputs": []
    },
    {
      "cell_type": "code",
      "execution_count": null,
      "metadata": {
        "id": "DnJoSxvMd4nb"
      },
      "outputs": [],
      "source": [
        "! pip install -q llama-index-llms-gemini"
      ]
    },
    {
      "cell_type": "code",
      "source": [
        "# First, install the jsonpath-ng package which is used by default to parse & execute the JSONPath queries.\n",
        "! pip install jsonpath-ng"
      ],
      "metadata": {
        "id": "N0dfdPmOeg3h"
      },
      "execution_count": null,
      "outputs": []
    },
    {
      "cell_type": "code",
      "source": [
        "import logging\n",
        "import sys\n",
        "\n",
        "logging.basicConfig(stream=sys.stdout, level=logging.INFO)\n",
        "logging.getLogger().addHandler(logging.StreamHandler(stream=sys.stdout))"
      ],
      "metadata": {
        "id": "Bug8ICZ4em3j"
      },
      "execution_count": 4,
      "outputs": []
    },
    {
      "cell_type": "markdown",
      "source": [
        "## Mount Google Drive"
      ],
      "metadata": {
        "id": "m2rdPVK8e0F-"
      }
    },
    {
      "cell_type": "code",
      "source": [
        "from google.colab import drive\n",
        "drive.mount('/content/drive', force_remount=True)"
      ],
      "metadata": {
        "colab": {
          "base_uri": "https://localhost:8080/"
        },
        "id": "dXswGKlieu9D",
        "outputId": "893f432c-b8cf-4f5e-c9de-7c7c0671e530"
      },
      "execution_count": 5,
      "outputs": [
        {
          "output_type": "stream",
          "name": "stdout",
          "text": [
            "Mounted at /content/drive\n"
          ]
        }
      ]
    },
    {
      "cell_type": "code",
      "source": [
        "import os\n",
        "\n",
        "base_path = \"/content/drive/MyDrive/Gen AI Course/RAG_For_HDFC_Policy\"\n",
        "filepath = f\"{base_path}/gemini_api_key.txt\"\n",
        "with open(filepath, \"r\") as f:\n",
        "  api_key = ' '.join(f.readlines())\n",
        "  os.environ[\"GOOGLE_API_KEY\"] = api_key"
      ],
      "metadata": {
        "id": "auozGNuze2ln"
      },
      "execution_count": 6,
      "outputs": []
    },
    {
      "cell_type": "code",
      "source": [
        "from IPython.display import Markdown, display"
      ],
      "metadata": {
        "id": "tW5NW8QEfJur"
      },
      "execution_count": 7,
      "outputs": []
    },
    {
      "cell_type": "code",
      "source": [
        "from llama_index.llms.gemini import Gemini\n",
        "\n",
        "llm = Gemini(api_key=os.environ[\"GOOGLE_API_KEY\"], model_name=\"models/gemini-pro\")"
      ],
      "metadata": {
        "id": "RSMBFLIIe9e4"
      },
      "execution_count": 8,
      "outputs": []
    },
    {
      "cell_type": "markdown",
      "source": [
        "## Let's start on a Toy JSON\n",
        "\n",
        "Very simple JSON object containing data from a blog post site with user comments.\n",
        "\n",
        "We will also provide a JSON schema (which we were able to generate by giving ChatGPT a sample of the JSON).\n",
        "\n",
        "### Advice\n",
        "Do make sure that you've provided a helpful `\"description\"` value for each of the fields in your JSON schema.\n",
        "\n",
        "As you can see in the given example, the description for the `\"username\"` field mentions that usernames are lowercased. You'll see that this ends up being helpful for the LLM in producing the correct JSON path query."
      ],
      "metadata": {
        "id": "KQKGvZAufns6"
      }
    },
    {
      "cell_type": "code",
      "source": [
        "# Test on some sample data\n",
        "json_value = {\n",
        "    \"blogPosts\": [\n",
        "        {\n",
        "            \"id\": 1,\n",
        "            \"title\": \"First blog post\",\n",
        "            \"content\": \"This is my first blog post\",\n",
        "        },\n",
        "        {\n",
        "            \"id\": 2,\n",
        "            \"title\": \"Second blog post\",\n",
        "            \"content\": \"This is my second blog post\",\n",
        "        },\n",
        "    ],\n",
        "    \"comments\": [\n",
        "        {\n",
        "            \"id\": 1,\n",
        "            \"content\": \"Nice post!\",\n",
        "            \"username\": \"jerry\",\n",
        "            \"blogPostId\": 1,\n",
        "        },\n",
        "        {\n",
        "            \"id\": 2,\n",
        "            \"content\": \"Interesting thoughts\",\n",
        "            \"username\": \"simon\",\n",
        "            \"blogPostId\": 2,\n",
        "        },\n",
        "        {\n",
        "            \"id\": 3,\n",
        "            \"content\": \"Loved reading this!\",\n",
        "            \"username\": \"simon\",\n",
        "            \"blogPostId\": 2,\n",
        "        },\n",
        "    ],\n",
        "}"
      ],
      "metadata": {
        "id": "E0XcI_2KfLAn"
      },
      "execution_count": 9,
      "outputs": []
    },
    {
      "cell_type": "code",
      "source": [
        "# JSON Schema object that the above JSON value conforms to\n",
        "json_schema = {\n",
        "    \"$schema\": \"http://json-schema.org/draft-07/schema#\",\n",
        "    \"description\": \"Schema for a very simple blog post app\",\n",
        "    \"type\": \"object\",\n",
        "    \"properties\": {\n",
        "        \"blogPosts\": {\n",
        "            \"description\": \"List of blog posts\",\n",
        "            \"type\": \"array\",\n",
        "            \"items\": {\n",
        "                \"type\": \"object\",\n",
        "                \"properties\": {\n",
        "                    \"id\": {\n",
        "                        \"description\": \"Unique identifier for the blog post\",\n",
        "                        \"type\": \"integer\",\n",
        "                    },\n",
        "                    \"title\": {\n",
        "                        \"description\": \"Title of the blog post\",\n",
        "                        \"type\": \"string\",\n",
        "                    },\n",
        "                    \"content\": {\n",
        "                        \"description\": \"Content of the blog post\",\n",
        "                        \"type\": \"string\",\n",
        "                    },\n",
        "                },\n",
        "                \"required\": [\"id\", \"title\", \"content\"],\n",
        "            },\n",
        "        },\n",
        "        \"comments\": {\n",
        "            \"description\": \"List of comments on blog posts\",\n",
        "            \"type\": \"array\",\n",
        "            \"items\": {\n",
        "                \"type\": \"object\",\n",
        "                \"properties\": {\n",
        "                    \"id\": {\n",
        "                        \"description\": \"Unique identifier for the comment\",\n",
        "                        \"type\": \"integer\",\n",
        "                    },\n",
        "                    \"content\": {\n",
        "                        \"description\": \"Content of the comment\",\n",
        "                        \"type\": \"string\",\n",
        "                    },\n",
        "                    \"username\": {\n",
        "                        \"description\": (\n",
        "                            \"Username of the commenter (lowercased)\"\n",
        "                        ),\n",
        "                        \"type\": \"string\",\n",
        "                    },\n",
        "                    \"blogPostId\": {\n",
        "                        \"description\": (\n",
        "                            \"Identifier for the blog post to which the comment\"\n",
        "                            \" belongs\"\n",
        "                        ),\n",
        "                        \"type\": \"integer\",\n",
        "                    },\n",
        "                },\n",
        "                \"required\": [\"id\", \"content\", \"username\", \"blogPostId\"],\n",
        "            },\n",
        "        },\n",
        "    },\n",
        "    \"required\": [\"blogPosts\", \"comments\"],\n",
        "}"
      ],
      "metadata": {
        "id": "SuBahChof0rv"
      },
      "execution_count": 19,
      "outputs": []
    },
    {
      "cell_type": "code",
      "source": [
        "from llama_index.core.indices.struct_store import JSONQueryEngine\n",
        "\n",
        "nl_query_engine = JSONQueryEngine(\n",
        "    json_value=json_value,\n",
        "    json_schema=json_schema,\n",
        "    llm=llm,\n",
        ")\n",
        "raw_query_engine = JSONQueryEngine(\n",
        "    json_value=json_value,\n",
        "    json_schema=json_schema,\n",
        "    llm=llm,\n",
        "    synthesize_response=False,\n",
        ")"
      ],
      "metadata": {
        "id": "C5HJNw_af2Gb"
      },
      "execution_count": 20,
      "outputs": []
    },
    {
      "cell_type": "markdown",
      "source": [
        "## Test"
      ],
      "metadata": {
        "id": "ER6tXIzcjHd5"
      }
    },
    {
      "cell_type": "code",
      "source": [
        "nl_response = nl_query_engine.query(\n",
        "    \"What comments has simon been writing?\",\n",
        ")\n",
        "raw_response = raw_query_engine.query(\n",
        "    \"What comments has simon been writing?\",\n",
        ")"
      ],
      "metadata": {
        "id": "DfAb3byhg51J"
      },
      "execution_count": 25,
      "outputs": []
    },
    {
      "cell_type": "code",
      "source": [
        "display(\n",
        "    Markdown(f\"<h1>Natural language Response</h1><br><b>{nl_response}</b>\")\n",
        ")\n",
        "display(Markdown(f\"<h1>Raw JSON Response</h1><br><b>{raw_response}</b>\"))"
      ],
      "metadata": {
        "colab": {
          "base_uri": "https://localhost:8080/",
          "height": 219
        },
        "id": "3LUbsiP7iywo",
        "outputId": "e2ed82c6-a84f-460e-f0bc-cc36e27e9c04"
      },
      "execution_count": 26,
      "outputs": [
        {
          "output_type": "display_data",
          "data": {
            "text/plain": [
              "<IPython.core.display.Markdown object>"
            ],
            "text/markdown": "<h1>Natural language Response</h1><br><b>simon has written the following comments: \"Interesting thoughts\" and \"Loved reading this!\".</b>"
          },
          "metadata": {}
        },
        {
          "output_type": "display_data",
          "data": {
            "text/plain": [
              "<IPython.core.display.Markdown object>"
            ],
            "text/markdown": "<h1>Raw JSON Response</h1><br><b>{\"username==\\\"simon\\\")]\": \"{'id': 2, 'content': 'Interesting thoughts', 'username': 'simon', 'blogPostId': 2}, {'id': 3, 'content': 'Loved reading this!', 'username': 'simon', 'blogPostId': 2}\"}</b>"
          },
          "metadata": {}
        }
      ]
    },
    {
      "cell_type": "code",
      "source": [
        "# get the json path query string. Same would apply to raw_response\n",
        "print(nl_response.metadata[\"json_path_response_str\"])"
      ],
      "metadata": {
        "colab": {
          "base_uri": "https://localhost:8080/"
        },
        "id": "hYjAHSvcizQC",
        "outputId": "47125af5-e0c1-4277-97da-6daf298a3676"
      },
      "execution_count": 27,
      "outputs": [
        {
          "output_type": "stream",
          "name": "stdout",
          "text": [
            "$.comments[?(@.username==\"simon\")]\n"
          ]
        }
      ]
    },
    {
      "cell_type": "markdown",
      "source": [
        "## Another Test"
      ],
      "metadata": {
        "id": "3blx8E9nitKy"
      }
    },
    {
      "cell_type": "code",
      "source": [
        "nl_response = nl_query_engine.query(\n",
        "    \"What comments has Jerry been writing?\",\n",
        ")\n",
        "raw_response = raw_query_engine.query(\n",
        "    \"What comments has Jerry been writing?\",\n",
        ")"
      ],
      "metadata": {
        "id": "VB82GdIAgUqP"
      },
      "execution_count": 23,
      "outputs": []
    },
    {
      "cell_type": "code",
      "source": [
        "display(\n",
        "    Markdown(f\"<h1>Natural language Response</h1><br><b>{nl_response}</b>\")\n",
        ")\n",
        "display(Markdown(f\"<h1>Raw JSON Response</h1><br><b>{raw_response}</b>\"))"
      ],
      "metadata": {
        "colab": {
          "base_uri": "https://localhost:8080/",
          "height": 201
        },
        "id": "E6a1vgr8gYg3",
        "outputId": "41693ff4-ddc5-4b90-92ad-d78473d555d2"
      },
      "execution_count": 24,
      "outputs": [
        {
          "output_type": "display_data",
          "data": {
            "text/plain": [
              "<IPython.core.display.Markdown object>"
            ],
            "text/markdown": "<h1>Natural language Response</h1><br><b>I cannot answer this question because there are no comments by Jerry in the provided JSON.</b>"
          },
          "metadata": {}
        },
        {
          "output_type": "display_data",
          "data": {
            "text/plain": [
              "<IPython.core.display.Markdown object>"
            ],
            "text/markdown": "<h1>Raw JSON Response</h1><br><b>{\"username == \\\"jerry\\\")]\": \"{'id': 1, 'content': 'Nice post!', 'username': 'jerry', 'blogPostId': 1}\"}</b>"
          },
          "metadata": {}
        }
      ]
    },
    {
      "cell_type": "code",
      "source": [
        "# get the json path query string. Same would apply to raw_response\n",
        "print(nl_response.metadata[\"json_path_response_str\"])"
      ],
      "metadata": {
        "colab": {
          "base_uri": "https://localhost:8080/"
        },
        "id": "rtmh9mjQggLL",
        "outputId": "18ec5749-8833-4b23-f71d-8e15cd91e814"
      },
      "execution_count": 22,
      "outputs": [
        {
          "output_type": "stream",
          "name": "stdout",
          "text": [
            "$.comments[?(@.username==\"Jerry\")]\n"
          ]
        }
      ]
    },
    {
      "cell_type": "code",
      "source": [],
      "metadata": {
        "id": "SLZAVBXpi1S-"
      },
      "execution_count": null,
      "outputs": []
    }
  ]
}