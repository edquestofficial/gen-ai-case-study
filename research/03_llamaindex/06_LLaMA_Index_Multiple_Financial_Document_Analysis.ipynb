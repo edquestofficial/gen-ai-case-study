{
  "nbformat": 4,
  "nbformat_minor": 0,
  "metadata": {
    "colab": {
      "provenance": [],
      "authorship_tag": "ABX9TyO7ZU4BWg52mZ9/OJhD7qF9",
      "include_colab_link": true
    },
    "kernelspec": {
      "name": "python3",
      "display_name": "Python 3"
    },
    "language_info": {
      "name": "python"
    }
  },
  "cells": [
    {
      "cell_type": "markdown",
      "metadata": {
        "id": "view-in-github",
        "colab_type": "text"
      },
      "source": [
        "<a href=\"https://colab.research.google.com/github/edquestofficial/Gen-AI-Cohort/blob/main/2024/april/Level_2/LLaMA_Index/LLaMA_Index_Multiple_Financial_Document_Analysis.ipynb\" target=\"_parent\"><img src=\"https://colab.research.google.com/assets/colab-badge.svg\" alt=\"Open In Colab\"/></a>"
      ]
    },
    {
      "cell_type": "markdown",
      "source": [
        "# Multiple Financial Document Analysis\n",
        "\n",
        "## Reference\n",
        "\n",
        "* [YouTube](https://www.youtube.com/watch?v=GT_Lsj3xj1o&list=PLTZkGHtR085ZjK1srrSZIrkeEzQiMjO9W)\n",
        "* [Documentation](https://github.com/openai/openai-cookbook/blob/main/examples/third_party/financial_document_analysis_with_llamaindex.ipynb)"
      ],
      "metadata": {
        "id": "WuoC-9r9uLaW"
      }
    },
    {
      "cell_type": "markdown",
      "source": [
        "## Install Required Libraries"
      ],
      "metadata": {
        "id": "J8JCsiVE-epI"
      }
    },
    {
      "cell_type": "code",
      "execution_count": null,
      "metadata": {
        "id": "gKG5t3ZJtkHi"
      },
      "outputs": [],
      "source": [
        "!pip install llama-index pypdf"
      ]
    },
    {
      "cell_type": "code",
      "source": [
        "! pip install langchain"
      ],
      "metadata": {
        "id": "kDnewmuUvX7K"
      },
      "execution_count": null,
      "outputs": []
    },
    {
      "cell_type": "code",
      "source": [
        "! pip install llama_index"
      ],
      "metadata": {
        "id": "lAqE7KtJvhvK"
      },
      "execution_count": null,
      "outputs": []
    },
    {
      "cell_type": "code",
      "source": [
        "! pip install -q llama-index-llms-gemini"
      ],
      "metadata": {
        "id": "Chdg-ZWXxvjz"
      },
      "execution_count": null,
      "outputs": []
    },
    {
      "cell_type": "code",
      "source": [
        "! pip install llama-index-embeddings-huggingface"
      ],
      "metadata": {
        "id": "1tYy69CO5fJ7"
      },
      "execution_count": null,
      "outputs": []
    },
    {
      "cell_type": "markdown",
      "source": [
        "## Mount Google Drive"
      ],
      "metadata": {
        "id": "nbj-LdeNxKwx"
      }
    },
    {
      "cell_type": "code",
      "source": [
        "from google.colab import drive\n",
        "drive.mount('/content/drive', force_remount=True)"
      ],
      "metadata": {
        "colab": {
          "base_uri": "https://localhost:8080/"
        },
        "id": "UCBmt3OvxNTO",
        "outputId": "2e9b3c99-51d4-4c57-e6ec-1c8c9c9aac40"
      },
      "execution_count": 6,
      "outputs": [
        {
          "output_type": "stream",
          "name": "stdout",
          "text": [
            "Mounted at /content/drive\n"
          ]
        }
      ]
    },
    {
      "cell_type": "code",
      "source": [
        "import os\n",
        "\n",
        "base_path = \"/content/drive/MyDrive/Gen AI Course/RAG_For_HDFC_Policy\"\n",
        "filepath = f\"{base_path}/gemini_api_key.txt\"\n",
        "with open(filepath, \"r\") as f:\n",
        "  api_key = ' '.join(f.readlines())\n",
        "  os.environ[\"GOOGLE_API_KEY\"] = api_key"
      ],
      "metadata": {
        "id": "WsbCAGgOxRhY"
      },
      "execution_count": 7,
      "outputs": []
    },
    {
      "cell_type": "markdown",
      "source": [
        "## Required Imports"
      ],
      "metadata": {
        "id": "DWMPhVVC-4gD"
      }
    },
    {
      "cell_type": "code",
      "source": [
        "from langchain import OpenAI\n",
        "\n",
        "from llama_index.core import SimpleDirectoryReader, VectorStoreIndex\n",
        "from llama_index.core.tools import QueryEngineTool, ToolMetadata\n",
        "from llama_index.core.query_engine import SubQuestionQueryEngine\n",
        "\n",
        "from llama_index.core import Settings"
      ],
      "metadata": {
        "id": "ozMvxELFu0zG"
      },
      "execution_count": 9,
      "outputs": []
    },
    {
      "cell_type": "markdown",
      "source": [
        "## Basic LLM Setup"
      ],
      "metadata": {
        "id": "KyMdFMsFxlCe"
      }
    },
    {
      "cell_type": "code",
      "source": [
        "from llama_index.llms.gemini import Gemini\n",
        "\n",
        "llm = Gemini()"
      ],
      "metadata": {
        "id": "nmRqr8Xpz09H"
      },
      "execution_count": 11,
      "outputs": []
    },
    {
      "cell_type": "code",
      "source": [
        "Settings.llm = llm"
      ],
      "metadata": {
        "id": "6EU1CspE06jT"
      },
      "execution_count": 12,
      "outputs": []
    },
    {
      "cell_type": "markdown",
      "source": [
        "## Data Loading"
      ],
      "metadata": {
        "id": "_hzDPv0c1aaB"
      }
    },
    {
      "cell_type": "code",
      "source": [
        "data_path = \"/content/drive/MyDrive/Gen AI Course/data\"\n",
        "lyft_path = f\"{data_path}/lyft_2021.pdf\"\n",
        "uber_path = f\"{data_path}/uber_2021.pdf\""
      ],
      "metadata": {
        "id": "Me_nuKZG2ED0"
      },
      "execution_count": 13,
      "outputs": []
    },
    {
      "cell_type": "code",
      "source": [
        "lyft_docs = SimpleDirectoryReader(input_files=[lyft_path]).load_data()"
      ],
      "metadata": {
        "id": "voUh128ivVnJ"
      },
      "execution_count": 14,
      "outputs": []
    },
    {
      "cell_type": "code",
      "source": [
        "len(lyft_docs)"
      ],
      "metadata": {
        "colab": {
          "base_uri": "https://localhost:8080/"
        },
        "id": "rzJFZ5nq2iEI",
        "outputId": "cae04080-5fe0-444f-e312-228fb2caea6c"
      },
      "execution_count": 16,
      "outputs": [
        {
          "output_type": "execute_result",
          "data": {
            "text/plain": [
              "238"
            ]
          },
          "metadata": {},
          "execution_count": 16
        }
      ]
    },
    {
      "cell_type": "code",
      "source": [
        "uber_docs = SimpleDirectoryReader(input_files=[uber_path]).load_data()"
      ],
      "metadata": {
        "id": "4jArbtktyoVn"
      },
      "execution_count": 17,
      "outputs": []
    },
    {
      "cell_type": "code",
      "source": [
        "len(uber_docs)"
      ],
      "metadata": {
        "colab": {
          "base_uri": "https://localhost:8080/"
        },
        "id": "WyHDKeHt2n5E",
        "outputId": "8adba1b6-7dcf-4f98-c0f0-4095c6879811"
      },
      "execution_count": 18,
      "outputs": [
        {
          "output_type": "execute_result",
          "data": {
            "text/plain": [
              "307"
            ]
          },
          "metadata": {},
          "execution_count": 18
        }
      ]
    },
    {
      "cell_type": "code",
      "source": [
        "print(f'Loaded lyft with {len(lyft_docs)} pages')\n",
        "print(f'Loaded Uber with {len(uber_docs)} pages')"
      ],
      "metadata": {
        "colab": {
          "base_uri": "https://localhost:8080/"
        },
        "id": "BqgiLdKq2rO_",
        "outputId": "6b8648b7-046a-4f1c-e825-a9d7fc463aee"
      },
      "execution_count": 19,
      "outputs": [
        {
          "output_type": "stream",
          "name": "stdout",
          "text": [
            "Loaded lyft with 238 pages\n",
            "Loaded Uber with 307 pages\n"
          ]
        }
      ]
    },
    {
      "cell_type": "markdown",
      "source": [
        "## Indexing\n",
        "\n",
        "To save costs, you may want to use a local model."
      ],
      "metadata": {
        "id": "ZmscGNjM5dVH"
      }
    },
    {
      "cell_type": "code",
      "source": [
        "from llama_index.embeddings.huggingface import HuggingFaceEmbedding\n",
        "\n",
        "Settings.embed_model = HuggingFaceEmbedding(\n",
        "    model_name=\"BAAI/bge-small-en-v1.5\"\n",
        ")"
      ],
      "metadata": {
        "id": "zuLpe3IV5yaJ"
      },
      "execution_count": null,
      "outputs": []
    },
    {
      "cell_type": "code",
      "source": [
        "lyft_index = VectorStoreIndex.from_documents(lyft_docs)"
      ],
      "metadata": {
        "id": "LDa1F-hy5J5m"
      },
      "execution_count": 26,
      "outputs": []
    },
    {
      "cell_type": "code",
      "source": [
        "uber_index = VectorStoreIndex.from_documents(uber_docs)"
      ],
      "metadata": {
        "id": "XXUhUTRk2x6c"
      },
      "execution_count": 27,
      "outputs": []
    },
    {
      "cell_type": "markdown",
      "source": [
        "## Simple QA"
      ],
      "metadata": {
        "id": "N1j71yAR7PT2"
      }
    },
    {
      "cell_type": "markdown",
      "source": [
        "Now we are ready to run some queries against our indices!  \n",
        "To do so, we first configure a `QueryEngine`, which just captures a set of configurations for how we want to query the underlying index.\n",
        "\n",
        "For a `VectorStoreIndex`, the most common configuration to adjust is `similarity_top_k` which controls how many document chunks (which we call `Node` objects) are retrieved to use as context for answering our question."
      ],
      "metadata": {
        "id": "8Myk8WMb7esX"
      }
    },
    {
      "cell_type": "code",
      "source": [
        "lyft_engine = lyft_index.as_query_engine(similarity_top_k=3)"
      ],
      "metadata": {
        "id": "mlWvKtSl7Ong"
      },
      "execution_count": 30,
      "outputs": []
    },
    {
      "cell_type": "code",
      "source": [
        "uber_engine = uber_index.as_query_engine(similarity_top_k=3)"
      ],
      "metadata": {
        "id": "b8MA4Dzr22o-"
      },
      "execution_count": 31,
      "outputs": []
    },
    {
      "cell_type": "markdown",
      "source": [
        "### Let's see some queries in action!"
      ],
      "metadata": {
        "id": "YPLJrAbo7nFa"
      }
    },
    {
      "cell_type": "code",
      "source": [
        "response = await lyft_engine.aquery('What is the revenue of Lyft in 2021? Answer in millions with page reference')"
      ],
      "metadata": {
        "id": "e2Mc2VZt7oT7"
      },
      "execution_count": 32,
      "outputs": []
    },
    {
      "cell_type": "code",
      "source": [
        "print(response)"
      ],
      "metadata": {
        "colab": {
          "base_uri": "https://localhost:8080/"
        },
        "id": "fiVjx0OK7rGz",
        "outputId": "e0fe66f5-64ec-4669-be5e-516cc2528e0e"
      },
      "execution_count": 33,
      "outputs": [
        {
          "output_type": "stream",
          "name": "stdout",
          "text": [
            "$3,208,323 million. (page 79)\n"
          ]
        }
      ]
    },
    {
      "cell_type": "code",
      "source": [
        "response = await uber_engine.aquery('What is the revenue of Uber in 2021? Answer in millions, with page reference')"
      ],
      "metadata": {
        "id": "8q8gPJLO7uY6"
      },
      "execution_count": 34,
      "outputs": []
    },
    {
      "cell_type": "code",
      "source": [
        "print(response)"
      ],
      "metadata": {
        "colab": {
          "base_uri": "https://localhost:8080/"
        },
        "id": "voRa7mFP7u8F",
        "outputId": "31e80fc5-7c5d-4981-84f9-e43669d20dcc"
      },
      "execution_count": 35,
      "outputs": [
        {
          "output_type": "stream",
          "name": "stdout",
          "text": [
            "$17,455 million (page 55)\n"
          ]
        }
      ]
    },
    {
      "cell_type": "markdown",
      "source": [
        "## Advanced QA - Compare and Contrast"
      ],
      "metadata": {
        "id": "zeCHFyzT9EpT"
      }
    },
    {
      "cell_type": "markdown",
      "source": [
        "For more complex financial analysis, one often needs to reference multiple documents.  \n",
        "\n",
        "As a example, let's take a look at how to do compare-and-contrast queries over both Lyft and Uber financials.  \n",
        "For this, we build a `SubQuestionQueryEngine`, which breaks down a complex compare-and-contrast query, into simpler sub-questions to execute on respective sub query engine backed by individual indices."
      ],
      "metadata": {
        "id": "M35jX3wK9Hgi"
      }
    },
    {
      "cell_type": "code",
      "source": [
        "query_engine_tools = [\n",
        "    QueryEngineTool(\n",
        "        query_engine=lyft_engine,\n",
        "        metadata=ToolMetadata(name='lyft_10k',\n",
        "                              description='Provides information about Lyft financials for year 2021')\n",
        "    ),\n",
        "    QueryEngineTool(\n",
        "        query_engine=uber_engine,\n",
        "        metadata=ToolMetadata(name='uber_10k',\n",
        "                              description='Provides information about Uber financials for year 2021')\n",
        "    ),\n",
        "]\n",
        "\n",
        "s_engine = SubQuestionQueryEngine.from_defaults(query_engine_tools=query_engine_tools)"
      ],
      "metadata": {
        "id": "CCD63fYJ9FMi"
      },
      "execution_count": 36,
      "outputs": []
    },
    {
      "cell_type": "code",
      "source": [
        "response = await s_engine.aquery('Compare and contrast the customer segments and geographies that grew the fastest')"
      ],
      "metadata": {
        "colab": {
          "base_uri": "https://localhost:8080/",
          "height": 198
        },
        "id": "j1sD6lSP9G0c",
        "outputId": "ce1afe58-06ba-4699-a230-b6170e3afc0e"
      },
      "execution_count": 37,
      "outputs": [
        {
          "output_type": "stream",
          "name": "stdout",
          "text": [
            "Generated 4 sub questions.\n",
            "\u001b[1;3;38;2;237;90;200m[uber_10k] Q: What are the fastest growing customer segments for Uber\n",
            "\u001b[0m\u001b[1;3;38;2;237;90;200m[uber_10k] A: The provided context does not mention anything about the fastest growing customer segments for Uber, so I cannot answer this question from the provided context.\n",
            "\u001b[0m\u001b[1;3;38;2;90;149;237m[uber_10k] Q: What are the fastest growing geographies for Uber\n",
            "\u001b[0m\u001b[1;3;38;2;90;149;237m[uber_10k] A: This question cannot be answered from the given context.\n",
            "\u001b[0m\u001b[1;3;38;2;11;159;203m[lyft_10k] Q: What are the fastest growing customer segments for Lyft\n",
            "\u001b[0m\u001b[1;3;38;2;11;159;203m[lyft_10k] A: This question cannot be answered from the given context.\n",
            "\u001b[0m\u001b[1;3;38;2;155;135;227m[lyft_10k] Q: What are the fastest growing geographies for Lyft\n",
            "\u001b[0m\u001b[1;3;38;2;155;135;227m[lyft_10k] A: This question cannot be answered from the given context because it does not mention the fastest growing geographies for Lyft.\n",
            "\u001b[0m"
          ]
        }
      ]
    },
    {
      "cell_type": "code",
      "source": [
        "print(response)"
      ],
      "metadata": {
        "colab": {
          "base_uri": "https://localhost:8080/"
        },
        "id": "Kn2eOTon9fJV",
        "outputId": "06475b1e-caa7-4b2d-a3ac-78a2b36263a1"
      },
      "execution_count": 38,
      "outputs": [
        {
          "output_type": "stream",
          "name": "stdout",
          "text": [
            "The provided context does not mention the fastest growing customer segments or geographies for either Uber or Lyft, so I cannot compare and contrast them from the provided context.\n"
          ]
        }
      ]
    },
    {
      "cell_type": "code",
      "source": [
        "response = await s_engine.aquery('Compare revenue growth of Uber and Lyft from 2020 to 2021')"
      ],
      "metadata": {
        "colab": {
          "base_uri": "https://localhost:8080/",
          "height": 126
        },
        "id": "cx9CdUwj9jcK",
        "outputId": "77161fa6-0dce-46ab-cabf-94f3b57a3d5a"
      },
      "execution_count": 39,
      "outputs": [
        {
          "output_type": "stream",
          "name": "stdout",
          "text": [
            "Generated 2 sub questions.\n",
            "\u001b[1;3;38;2;237;90;200m[uber_10k] Q: What is the revenue growth of Uber from 2020 to 2021\n",
            "\u001b[0m\u001b[1;3;38;2;237;90;200m[uber_10k] A: Uber's revenue increased by 57% from 2020 to 2021, from $11,139 million to $17,455 million.\n",
            "\u001b[0m\u001b[1;3;38;2;90;149;237m[lyft_10k] Q: What is the revenue growth of Lyft from 2020 to 2021\n",
            "\u001b[0m\u001b[1;3;38;2;90;149;237m[lyft_10k] A: Lyft's revenue grew by 35.7% from $2,364,681,000 in 2020 to $3,208,323,000 in 2021.\n",
            "\u001b[0m"
          ]
        }
      ]
    },
    {
      "cell_type": "code",
      "source": [
        "print(response)"
      ],
      "metadata": {
        "colab": {
          "base_uri": "https://localhost:8080/"
        },
        "id": "HLvI4GvS9jXp",
        "outputId": "448101eb-c9c7-4b7f-b2ed-21d49262fd7e"
      },
      "execution_count": 40,
      "outputs": [
        {
          "output_type": "stream",
          "name": "stdout",
          "text": [
            "Uber's revenue growth from 2020 to 2021 was 57%, while Lyft's revenue growth was 35.7%. Therefore, Uber's revenue growth was higher than Lyft's revenue growth during this period.\n"
          ]
        }
      ]
    }
  ]
}