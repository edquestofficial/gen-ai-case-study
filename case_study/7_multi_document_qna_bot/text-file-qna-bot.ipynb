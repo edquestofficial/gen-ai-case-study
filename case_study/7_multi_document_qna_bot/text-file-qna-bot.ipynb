{
  "nbformat": 4,
  "nbformat_minor": 0,
  "metadata": {
    "colab": {
      "provenance": []
    },
    "kernelspec": {
      "name": "python3",
      "display_name": "Python 3"
    },
    "language_info": {
      "name": "python"
    }
  },
  "cells": [
    {
      "cell_type": "code",
      "execution_count": null,
      "metadata": {
        "id": "vY1G7_FiGzBN"
      },
      "outputs": [],
      "source": [
        "# Install necessary libraries. These lines install various packages needed for the script.\n",
        "# Uncomment and run these lines if the packages are not already installed.\n",
        "# !pip install langchain\n",
        "# %pip install llama-index-llms-gemini\n",
        "# !pip install llama-index-embeddings-huggingface\n",
        "# !pip install -q llama-index google-generativeai\n",
        "# !pip install llama-index-llms-ollama\n",
        "\n",
        "import os\n",
        "\n",
        "# Import necessary classes and functions from llama_index and other libraries.\n",
        "# Commented out import of GeminiEmbedding as it is not used in the code.\n",
        "#from llama_index.embeddings.gemini import GeminiEmbedding\n",
        "from llama_index.core import VectorStoreIndex, SimpleDirectoryReader, Settings\n",
        "from llama_index.embeddings.huggingface import HuggingFaceEmbedding\n",
        "from llama_index.llms.ollama import Ollama\n",
        "from llama_index.llms.gemini import Gemini\n",
        "\n",
        "# Load documents from the 'data' directory using SimpleDirectoryReader.\n",
        "documents = SimpleDirectoryReader(\"data\").load_data()\n",
        "\n",
        "# Print the number of loaded documents. This line is commented out.\n",
        "#print(len(documents))\n",
        "\n",
        "# Set the API key for accessing the Gemini model.\n",
        "api_key = \"\"\n",
        "\n",
        "# Set the embedding model to be used in the settings. Here, a HuggingFace model is specified.\n",
        "Settings.embed_model = HuggingFaceEmbedding(model_name=\"BAAI/bge-base-en-v1.5\")\n",
        "\n",
        "# Set the language model to be used in the settings. Here, the Gemini model is specified with an API key.\n",
        "Settings.llm = Gemini(api_key=api_key, model_name=\"models/gemini-pro\")\n",
        "\n",
        "# Create a VectorStoreIndex from the loaded documents. This index will be used for querying.\n",
        "index = VectorStoreIndex.from_documents(documents,)\n",
        "\n",
        "# Create a query engine from the index. The query engine will handle querying the documents.\n",
        "query_engine = index.as_query_engine()\n",
        "\n",
        "# Query the index with a specific question and print the response.\n",
        "response = query_engine.query(\"What did the author do growing up?\")\n",
        "print(response)"
      ]
    }
  ]
}